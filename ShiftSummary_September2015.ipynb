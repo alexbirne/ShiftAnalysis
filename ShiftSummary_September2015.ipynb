{
 "cells": [
  {
   "cell_type": "code",
   "execution_count": 291,
   "metadata": {
    "collapsed": true
   },
   "outputs": [],
   "source": [
    "import pandas as pd\n",
    "import numpy as np\n",
    "import matplotlib.pyplot as plt\n",
    "import datetime\n",
    "import seaborn\n",
    "%matplotlib inline"
   ]
  },
  {
   "cell_type": "code",
   "execution_count": 292,
   "metadata": {
    "collapsed": false
   },
   "outputs": [],
   "source": [
    "df = pd.read_csv(\"rundbfills.csv\")\n",
    "df[\"time_total\"] = [datetime.timedelta(seconds=duration) for duration in df[\"time_total\"]]\n",
    "df[\"endtime_formatted\"] = [datetime.datetime.strptime(timestamp, \"%Y-%m-%d %H:%M:%S\") for timestamp in df[\"timestamp\"]]\n",
    "df[\"starttime_formatted\"] = [endtime - duration for endtime, duration in zip(df[\"endtime_formatted\"], df[\"time_total\"])]"
   ]
  },
  {
   "cell_type": "code",
   "execution_count": 293,
   "metadata": {
    "collapsed": true
   },
   "outputs": [],
   "source": [
    "dmshiftstarts_moritz = [(\"2015-09-08\", \"night\"),\n",
    "                        (\"2015-09-09\", \"night\"),\n",
    "                        (\"2015-09-10\", \"night\"),\n",
    "                        (\"2015-09-14\", \"morning\"),\n",
    "                        (\"2015-09-15\", \"morning\"),\n",
    "                        (\"2015-09-16\", \"evening\"),\n",
    "                        (\"2015-09-17\", \"evening\"),\n",
    "                        (\"2015-09-18\", \"night\"),\n",
    "                        (\"2015-09-19\", \"night\"),\n",
    "                        (\"2015-09-20\", \"night\")]\n",
    "\n",
    "dmshiftstarts_alex = [(\"2015-09-16\", \"morning\"),\n",
    "                      (\"2015-09-17\", \"morning\"),\n",
    "                      (\"2015-09-18\", \"morning\"),\n",
    "                      (\"2015-09-19\", \"morning\"),\n",
    "                      (\"2015-09-20\", \"morning\"),\n",
    "                      (\"2015-09-21\", \"evening\")]\n",
    "\n",
    "dmshiftstarts_timon = [(\"2015-09-09\", \"morning\"),\n",
    "                       (\"2015-09-10\", \"morning\"),\n",
    "                       (\"2015-09-11\", \"evening\"),\n",
    "                       (\"2015-09-12\", \"evening\"),\n",
    "                       (\"2015-09-13\", \"evening\"),\n",
    "                       (\"2015-09-14\", \"night\")]\n",
    "\n",
    "dmshiftstarts_vanessa = [(\"2015-06-24\", \"morning\"),\n",
    "                         (\"2015-06-25\", \"morning\"),\n",
    "                         (\"2015-06-26\", \"morning\"),\n",
    "                         (\"2015-06-27\", \"evening\"),\n",
    "                         (\"2015-06-28\", \"evening\"),\n",
    "                         (\"2015-06-29\", \"night\")]\n",
    "\n",
    "daytimetitle_daytime_dict = {\"morning\":\"06:30:00\", \"evening\":\"14:30:00\", \"night\":\"22:30:00\"}\n",
    "\n",
    "shift_duration = (8,0,0) #hours, minutes, seconds\n",
    "shift_duration = datetime.timedelta(hours=shift_duration[0], minutes=shift_duration[1], seconds=shift_duration[2])"
   ]
  },
  {
   "cell_type": "code",
   "execution_count": 294,
   "metadata": {
    "collapsed": false
   },
   "outputs": [],
   "source": [
    "def format_shift(shifts, translator=daytimetitle_daytime_dict):\n",
    "    return [datetime.datetime.strptime(shift[0]+\" {0}\".format(translator[shift[1]]), \"%Y-%m-%d %H:%M:%S\") for shift in shifts]\n",
    "\n",
    "def time_overlap(ti_1, ti_2):\n",
    "    if ti_1[1]>=ti_2[0] and ti_2[1]>=ti_1[0]:\n",
    "        if ti_1[0] <= ti_2[0] <= ti_1[1]: start = ti_2[0]\n",
    "        else: start = ti_1[0]\n",
    "        stop = min(ti_1[1], ti_2[1])\n",
    "        return abs(start-stop)\n",
    "    else: return datetime.timedelta(hours=0)\n",
    "\n",
    "def check_for_matching_time(df, shifs, shift_dur):\n",
    "    shift_time = []\n",
    "    run_time = []\n",
    "    total_lumi = []\n",
    "    logged_lumi = []\n",
    "    inefficiency = []\n",
    "    deadtime = []\n",
    "    for start_shift in format_shift(shifs):\n",
    "        shift_time.append(shift_dur)\n",
    "        for cnt, (start_run, end_run) in enumerate(zip(df[\"starttime_formatted\"], df[\"endtime_formatted\"])):\n",
    "            temptime = time_overlap([start_run, end_run], [start_shift, start_shift + shift_dur])\n",
    "            if temptime: \n",
    "                run_time.append(temptime)\n",
    "                total_lumi.append(temptime/df[\"time_total\"][cnt]*df[\"lumi_total\"][cnt])\n",
    "                logged_lumi.append(temptime/df[\"time_total\"][cnt]*df[\"lumi_logged\"][cnt])\n",
    "                #print \"start_run={0}, end_run={1}, start_shift={2}, dur={3}\".format(start_run, end_run, start_shift, temptime)\n",
    "    return (run_time, shift_time, total_lumi, logged_lumi)\n",
    "            \n",
    "def timedelta_sum(timedeltas):\n",
    "    time_sum = datetime.timedelta(0)\n",
    "    for timedelta in timedeltas:\n",
    "        time_sum = time_sum + timedelta\n",
    "    return time_sum\n",
    "    \n",
    "def show_shift_efficiency(runtime, shifttime, name=\"\"):\n",
    "    appendix = \"'s\" if name[-1] in [\"x\", \"s\", \"z\"] else \"s\"\n",
    "    print \"{0} shift efficiency: {1}%. \" \\\n",
    "          \"Time data taking: {2}\".format(name+appendix, \n",
    "                                         round(timedelta_sum(runtime)/timedelta_sum(shifttime),2), \n",
    "                                         timedelta_sum(runtime))    \n",
    "        \n",
    "#  stolen from http://stackoverflow.com/questions/8906926/formatting-python-timedelta-objects  \n",
    "def strfdelta(tdelta, fmt):\n",
    "    d = {\"days\": tdelta.days}\n",
    "    d[\"hours\"], rem = divmod(tdelta.seconds, 3600)\n",
    "    d[\"minutes\"], d[\"seconds\"] = divmod(rem, 60)\n",
    "    return fmt.format(**d)"
   ]
  },
  {
   "cell_type": "code",
   "execution_count": 295,
   "metadata": {
    "collapsed": false
   },
   "outputs": [],
   "source": [
    "class Shifter(dict):\n",
    "    def __init__(self, **kwargs):\n",
    "        self[\"name\"] = kwargs.pop(\"name\", \"John Doe\")\n",
    "        self[\"dlumi\"] = sum(kwargs.pop(\"dlumi\", [0.0]))/1e6 #pb^-1\n",
    "        self[\"clumi\"] = sum(kwargs.pop(\"clumi\", [0.0]))/1e6 #pb^-1\n",
    "        self[\"runtime\"] = kwargs.pop(\"runtime\", [datetime.timedelta(hours=0)])\n",
    "        self[\"shifttime\"] = kwargs.pop(\"shifttime\", [datetime.timedelta(hours=0)])\n",
    "        self[\"digits\"] = kwargs.pop(\"digits\", 2)\n",
    "        self[\"shifteff\"] = timedelta_sum(self[\"runtime\"])/timedelta_sum(self[\"shifttime\"])\n",
    "        self[\"ineff\"] = self[\"clumi\"]/self[\"dlumi\"]\n",
    "        \n",
    "        self[\"runtime\"] = timedelta_sum(self[\"runtime\"])\n",
    "        self[\"shifttime\"] = timedelta_sum(self[\"shifttime\"])\n",
    "        \n",
    "        \n",
    "    def get_name(self):\n",
    "        return self[\"Name\"]\n",
    "    \n",
    "    def get_dlumi(self):\n",
    "        return self[\"dlumi\"]\n",
    "    \n",
    "    def get_clumi(self):\n",
    "        return self[\"clumi\"]\n",
    "    \n",
    "    def get_runtime(self):\n",
    "        return self[\"runtime\"]\n",
    "    \n",
    "    def get_shifttime(self):\n",
    "        return self[\"shifttime\"]\n",
    "    \n",
    "    def get_shifteff(self):\n",
    "        return self[\"shifteff\"]\n",
    "    \n",
    "    def get_ineff(self):\n",
    "        return self[\"ineff\"]\n",
    "    \n",
    "    def describe(self):\n",
    "        print \"Name: {0}\\nTotal time shifted: {1},\" \\\n",
    "        \" time in stable beams condition: {2} ({3}%)\" \\\n",
    "        \"\\nDelivered Lumi: {4} pb^-1, collected Lumi: {5} pb^-1 ({6}%)\\n\".format(self[\"name\"],\n",
    "                                                                  str(self[\"shifttime\"]).split(\".\")[0],\n",
    "                                                                  str(self[\"runtime\"]).split(\".\")[0], \n",
    "                                                                  round(self[\"shifteff\"]*100,self[\"digits\"]), \n",
    "                                                                  round(self[\"dlumi\"],self[\"digits\"]),\n",
    "                                                                  round(self[\"clumi\"],self[\"digits\"]),\n",
    "                                                                  round(self[\"ineff\"]*100,self[\"digits\"]))"
   ]
  },
  {
   "cell_type": "code",
   "execution_count": 296,
   "metadata": {
    "collapsed": false
   },
   "outputs": [],
   "source": [
    "runtime_alex, shifttime_alex, totlumi_alex, loglumi_alex = check_for_matching_time(df, dmshiftstarts_alex, shift_duration)\n",
    "runtime_timon, shifttime_timon, totlumi_timon, loglumi_timon = check_for_matching_time(df, dmshiftstarts_timon, shift_duration)\n",
    "runtime_moritz, shifttime_moritz, totlumi_moritz, loglumi_moritz = check_for_matching_time(df, dmshiftstarts_moritz, shift_duration)\n",
    "runtime_vanessa, shifttime_vanessa, totlumi_vanessa, loglumi_vanessa = check_for_matching_time(df, dmshiftstarts_vanessa, shift_duration)"
   ]
  },
  {
   "cell_type": "code",
   "execution_count": 297,
   "metadata": {
    "collapsed": false
   },
   "outputs": [
    {
     "name": "stdout",
     "output_type": "stream",
     "text": [
      "Name: Timon\n",
      "Total time shifted: 2 days, 0:00:00, time in stable beams condition: 0 days 20:20:33 (42.38%)\n",
      "Delivered Lumi: 7.67 pb^-1, collected Lumi: 6.08 pb^-1 (79.35%)\n",
      "\n",
      "Name: Alex\n",
      "Total time shifted: 2 days, 0:00:00, time in stable beams condition: 0 days 20:08:35 (41.97%)\n",
      "Delivered Lumi: 11.74 pb^-1, collected Lumi: 9.84 pb^-1 (83.82%)\n",
      "\n",
      "Name: Moritz\n",
      "Total time shifted: 3 days, 8:00:00, time in stable beams condition: 0 days 16:26:07 (20.54%)\n",
      "Delivered Lumi: 8.57 pb^-1, collected Lumi: 7.08 pb^-1 (82.56%)\n",
      "\n"
     ]
    }
   ],
   "source": [
    "alex = Shifter(name=\"Alex\",\n",
    "               dlumi=totlumi_alex,\n",
    "               clumi=loglumi_alex,\n",
    "               runtime=runtime_alex, \n",
    "               shifttime=shifttime_alex)\n",
    "\n",
    "timon = Shifter(name=\"Timon\",\n",
    "               dlumi=totlumi_timon,\n",
    "               clumi=loglumi_timon,\n",
    "               runtime=runtime_timon, \n",
    "               shifttime=shifttime_timon)\n",
    "\n",
    "moritz = Shifter(name=\"Moritz\",\n",
    "               dlumi=totlumi_moritz,\n",
    "               clumi=loglumi_moritz,\n",
    "               runtime=runtime_moritz, \n",
    "               shifttime=shifttime_moritz)\n",
    "\n",
    "#vanessa = Shifter(name=\"Vanessa\",\n",
    "#                dlumi=totlumi_vanessa,\n",
    "#                clumi=loglumi_vanessa,\n",
    "#                runtime=runtime_vanessa, \n",
    "#                shifttime=shifttime_vanessa)\n",
    "\n",
    "timon.describe()\n",
    "alex.describe()\n",
    "moritz.describe()\n",
    "#vanessa.describe()"
   ]
  },
  {
   "cell_type": "code",
   "execution_count": 298,
   "metadata": {
    "collapsed": false
   },
   "outputs": [
    {
     "data": {
      "image/png": "[encoded data removed]",
      "text/plain": [
       "<matplotlib.figure.Figure at 0x10acc15d0>"
      ]
     },
     "metadata": {},
     "output_type": "display_data"
    }
   ],
   "source": [
    "def configure_barchart(ylabel=\"default\", names=(\"Alex\", \"Moritz\", \"Timon\"), xticks=[0.5,1.5,2.5], appendix = [\"\", \"\", \"\"]):\n",
    "    fig, ax = plt.subplots()\n",
    "    new_names = [name+app for name, app in zip(names,appendix)]\n",
    "    ax.set_ylabel(ylabel,fontsize=20)\n",
    "    ax.set_xticks(xticks)\n",
    "    ax.set_xticklabels(new_names, fontsize=20)\n",
    "    fig.set_size_inches(10,8)\n",
    "    return fig, ax\n",
    "    \n",
    "fig_shifttime, ax_shifttime = configure_barchart(\"Total time shifted / time with stable beams [h]\", \n",
    "                                                  appendix=[\" ({0}%)\".format(round(alex.get_shifteff()*100,2)),\n",
    "                                                            \" ({0}%)\".format(round(moritz.get_shifteff()*100,2)),\n",
    "                                                            \" ({0}%)\".format(round(timon.get_shifteff()*100,2)),])\n",
    "\n",
    "shifttime = [alex.get_shifttime().total_seconds()/3600., #time in h\n",
    "             moritz.get_shifttime().total_seconds()/3600.,\n",
    "             timon.get_shifttime().total_seconds()/3600.]\n",
    "\n",
    "runtime = [  alex.get_runtime().total_seconds()/3600.,\n",
    "             moritz.get_runtime().total_seconds()/3600.,\n",
    "             timon.get_runtime().total_seconds()/3600.]\n",
    "\n",
    "ax_shifttime.bar([0.1,1.1,2.1] , shifttime, color=['r','g','b'], alpha=0.5)\n",
    "ax_shifttime.bar([0.1,1.1,2.1] , runtime, color=['r','g','b'])\n",
    "\n",
    "plt.show()\n",
    "fig_shifttime.savefig(\"shifttime.pdf\")"
   ]
  },
  {
   "cell_type": "code",
   "execution_count": 299,
   "metadata": {
    "collapsed": false
   },
   "outputs": [
    {
     "name": "stdout",
     "output_type": "stream",
     "text": [
      "[11.744171997662921, 8.5748477077198793, 7.6667133209859806]\n"
     ]
    },
    {
     "data": {
      "image/png": "[encoded data removed]",
      "text/plain": [
       "<matplotlib.figure.Figure at 0x10870fe10>"
      ]
     },
     "metadata": {},
     "output_type": "display_data"
    }
   ],
   "source": [
    "dellumi = [alex.get_dlumi(),\n",
    "           moritz.get_dlumi(),\n",
    "           timon.get_dlumi()]\n",
    "\n",
    "print dellumi\n",
    "\n",
    "collumi = [alex.get_clumi(),\n",
    "           moritz.get_clumi(),\n",
    "           timon.get_clumi()]\n",
    "\n",
    "fig_lumi, ax_lumi = configure_barchart(r\"Delivered / collected lumi while on shift [$pb^{-1}$]\",\n",
    "                                       appendix=[\" ({0}%)\".format(round(alex.get_ineff()*100,2)),\n",
    "                                                \" ({0}%)\".format(round(moritz.get_ineff()*100,2)),\n",
    "                                                \" ({0}%)\".format(round(timon.get_ineff()*100,2))])\n",
    "\n",
    "ax_lumi.bar([0.1,1.1,2.1], dellumi, color=['r','g','b'], alpha=0.5)\n",
    "ax_lumi.bar([0.1,1.1,2.1], collumi, color=['r','g','b'])\n",
    "\n",
    "plt.show()\n",
    "fig_lumi.savefig(\"coll_lumi.pdf\")"
   ]
  }
 ],
 "metadata": {
  "kernelspec": {
   "display_name": "Python 2",
   "language": "python",
   "name": "python2"
  },
  "language_info": {
   "codemirror_mode": {
    "name": "ipython",
    "version": 2
   },
   "file_extension": ".py",
   "mimetype": "text/x-python",
   "name": "python",
   "nbconvert_exporter": "python",
   "pygments_lexer": "ipython2",
   "version": "2.7.10"
  }
 },
 "nbformat": 4,
 "nbformat_minor": 0
}
